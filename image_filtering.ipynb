{
 "cells": [
  {
   "cell_type": "code",
   "execution_count": 21,
   "metadata": {
    "collapsed": false,
    "deletable": true,
    "editable": true
   },
   "outputs": [
    {
     "ename": "NameError",
     "evalue": "name 'matplotlib' is not defined",
     "output_type": "error",
     "traceback": [
      "\u001b[0;31m---------------------------------------------------------------------------\u001b[0m",
      "\u001b[0;31mNameError\u001b[0m                                 Traceback (most recent call last)",
      "\u001b[0;32m<ipython-input-21-6d1093f7ced9>\u001b[0m in \u001b[0;36m<module>\u001b[0;34m()\u001b[0m\n\u001b[1;32m     10\u001b[0m \u001b[0mconv2D\u001b[0m \u001b[0;34m=\u001b[0m \u001b[0;32mlambda\u001b[0m \u001b[0mx\u001b[0m\u001b[0;34m,\u001b[0m\u001b[0mk\u001b[0m\u001b[0;34m:\u001b[0m \u001b[0mcv2\u001b[0m\u001b[0;34m.\u001b[0m\u001b[0mfilter2D\u001b[0m\u001b[0;34m(\u001b[0m\u001b[0mx\u001b[0m\u001b[0;34m,\u001b[0m \u001b[0;34m-\u001b[0m\u001b[0;36m1\u001b[0m\u001b[0;34m,\u001b[0m \u001b[0mk\u001b[0m\u001b[0;34m)\u001b[0m\u001b[0;34m\u001b[0m\u001b[0m\n\u001b[1;32m     11\u001b[0m \u001b[0;32mfrom\u001b[0m \u001b[0mmpl_toolkits\u001b[0m\u001b[0;34m.\u001b[0m\u001b[0mmplot3d\u001b[0m \u001b[0;32mimport\u001b[0m \u001b[0mAxes3D\u001b[0m\u001b[0;34m\u001b[0m\u001b[0m\n\u001b[0;32m---> 12\u001b[0;31m \u001b[0mmatplotlib\u001b[0m\u001b[0;34m.\u001b[0m\u001b[0mrcParams\u001b[0m\u001b[0;34m[\u001b[0m\u001b[0;34m'figure.figsize'\u001b[0m\u001b[0;34m]\u001b[0m \u001b[0;34m=\u001b[0m \u001b[0;34m(\u001b[0m\u001b[0;36m20.0\u001b[0m\u001b[0;34m,\u001b[0m \u001b[0;36m10.0\u001b[0m\u001b[0;34m)\u001b[0m\u001b[0;34m\u001b[0m\u001b[0m\n\u001b[0m",
      "\u001b[0;31mNameError\u001b[0m: name 'matplotlib' is not defined"
     ]
    }
   ],
   "source": [
    "%matplotlib inline\n",
    "\n",
    "\n",
    "import numpy as np\n",
    "import matplotlib.pyplot as plt\n",
    "import cv2\n",
    "from IPython.display import Image\n",
    "from IPython.display import display\n",
    "imshowg = lambda x: plt.imshow(x,cmap=plt.get_cmap('gray'))\n",
    "conv2D = lambda x,k: cv2.filter2D(x, -1, k)\n",
    "from mpl_toolkits.mplot3d import Axes3D\n",
    "matplotlib.rcParams['figure.figsize'] = (20.0, 10.0)"
   ]
  },
  {
   "cell_type": "code",
   "execution_count": null,
   "metadata": {
    "collapsed": true,
    "deletable": true,
    "editable": true
   },
   "outputs": [],
   "source": [
    "img_in  = cv2.imread('example.jpg',cv2.IMREAD_GRAYSCALE)"
   ]
  },
  {
   "cell_type": "code",
   "execution_count": null,
   "metadata": {
    "collapsed": false,
    "deletable": true,
    "editable": true
   },
   "outputs": [],
   "source": [
    "imshowg(img_in)"
   ]
  },
  {
   "cell_type": "markdown",
   "metadata": {
    "deletable": true,
    "editable": true
   },
   "source": [
    "Convolution can be performed in several ways:\n",
    "* Numpy: np.convolve works on 1D\n",
    "* OpenCV: filter2D\n",
    "* Separable\n",
    "* Frequency Space\n",
    "* Matlab filter2d or imfilter for correlation, conv2 for convolution == filter2(rot90(f,2),I)\n"
   ]
  },
  {
   "cell_type": "code",
   "execution_count": null,
   "metadata": {
    "collapsed": false,
    "deletable": true,
    "editable": true
   },
   "outputs": [],
   "source": [
    "img = conv2D(img_in, 1.0/9*np.ones((3,3)))\n",
    "\n",
    "imshowg(img)"
   ]
  },
  {
   "cell_type": "code",
   "execution_count": null,
   "metadata": {
    "collapsed": false,
    "deletable": true,
    "editable": true
   },
   "outputs": [],
   "source": [
    "s = 128\n",
    "plt.subplot(1,2,1)\n",
    "imshowg(img_in[0:s,0:s])\n",
    "plt.subplot(1,2,2)\n",
    "imshowg(img[0:s,0:s])\n"
   ]
  },
  {
   "cell_type": "markdown",
   "metadata": {
    "deletable": true,
    "editable": true
   },
   "source": [
    "Explore the following filters\n",
    "* [[0,0,0],[0,1,0],[0,0,0]]\n",
    "* [[0,0,0],[0,0,1],[0,0,0]]\n",
    "* [[1,0,-1],[2,0,-2],[1,0,-1]]\n",
    "* [[0,0,0],[0,2,0],[0,0,0]] - 1.0/9*np.ones((3,3))\n",
    "* [[0,1,0],[1,-4,1],[0,1,0]]\n",
    "* [[-2,-1,0],[-1,1,1],[0,1,2]]"
   ]
  },
  {
   "cell_type": "code",
   "execution_count": null,
   "metadata": {
    "collapsed": false,
    "deletable": true,
    "editable": true
   },
   "outputs": [],
   "source": [
    "img = conv2D(img_in, np.array([[1,0,-1],[2,0,-2],[1,0,-1]],dtype=np.float64))\n",
    "imshowg(img)"
   ]
  },
  {
   "cell_type": "code",
   "execution_count": null,
   "metadata": {
    "collapsed": false,
    "deletable": true,
    "editable": true
   },
   "outputs": [],
   "source": [
    "img = conv2D(img_in, np.array([[0,0,0],[0,2,0],[0,0,0]],dtype=np.float64)- 1.0/9*np.ones((3,3)))\n",
    "imshowg(img)"
   ]
  },
  {
   "cell_type": "markdown",
   "metadata": {
    "deletable": true,
    "editable": true
   },
   "source": [
    "Other playgrounds:\n",
    "* GIMP Filters | Generic | Convolution Matrix / max 5x5 - https://docs.gimp.org/en/plug-in-convmatrix.html\n",
    "* http://setosa.io/ev/image-kernels/"
   ]
  },
  {
   "cell_type": "markdown",
   "metadata": {
    "deletable": true,
    "editable": true
   },
   "source": [
    "# Filter Separability\n",
    "Given an image MxN and a filter PxQ the full 2D convolution costs MNPQ operations, but if we can separate the filter in two parts Px1 and 1xQ we can reduce this to MNP plus MNQ that is MN(P+Q). For the common case K=P=Q we have O(K^2) and O(K).\n",
    "\n",
    "* cv2.sepFilter2D(src, ddepth, kernelX, kernelY[, dst[, anchor[, delta[, borderType]]]])\n",
    "\n",
    "Note: other specialization: symmetric normalized ones\n"
   ]
  },
  {
   "cell_type": "markdown",
   "metadata": {
    "deletable": true,
    "editable": true
   },
   "source": [
    "# Properties\n",
    "Properties of Convolutions\n",
    "* Commutability\n",
    "* Associability\n",
    "* Distribution\n",
    "* Scaling"
   ]
  },
  {
   "cell_type": "markdown",
   "metadata": {
    "deletable": true,
    "editable": true
   },
   "source": [
    "# Gaussian Filter\n",
    "Special filter connected to perceptual capabilities\n",
    "![title](img/gaussian.png)\n",
    "\n",
    "This is a low-pass separable filter\n",
    "![title](img/gaussianeq.png)\n",
    "\n",
    "\n",
    "In Python:\n",
    "* cv2.GaussianBlur(src, ksize, sigmaX[, dst[, sigmaY[, borderType]]]) \n",
    "* cv2.getGaussianKernel(ksize, sigma[, ktype])\n",
    "\n",
    "The first performs the high-level transformation using the function sepFilter2D, the second provides the 1D filter. We'll use this to explain the Gaussian Filter.\n",
    "\n",
    "How to set ksize given sigma? ksize/2 = int(3 sigma)"
   ]
  },
  {
   "cell_type": "code",
   "execution_count": null,
   "metadata": {
    "collapsed": false,
    "deletable": true,
    "editable": true
   },
   "outputs": [],
   "source": [
    "fi = cv2.getGaussianKernel(30, 5)\n",
    "print(fi)\n",
    "plt.plot(fi)"
   ]
  },
  {
   "cell_type": "code",
   "execution_count": null,
   "metadata": {
    "collapsed": false,
    "deletable": true,
    "editable": true
   },
   "outputs": [],
   "source": [
    "fi2 = fi * fi.T\n",
    "print(fi2.shape,fi.T.shape)\n",
    "imshowg(fi2)"
   ]
  },
  {
   "cell_type": "code",
   "execution_count": null,
   "metadata": {
    "collapsed": false,
    "deletable": true,
    "editable": true
   },
   "outputs": [],
   "source": [
    "fig = plt.figure()\n",
    "ax = fig.gca(projection='3d')\n",
    "xx, yy = np.mgrid[0:fi2.shape[0], 0:fi2.shape[1]]\n",
    "\n",
    "ax.plot_surface(xx, yy, fi2 ,rstride=1, cstride=1, cmap=plt.cm.gray,linewidth=0)\n",
    "plt.show()\n",
    "print xx.shape"
   ]
  },
  {
   "cell_type": "code",
   "execution_count": null,
   "metadata": {
    "collapsed": false,
    "deletable": true,
    "editable": true
   },
   "outputs": [],
   "source": [
    "%timeit img_f2c = conv2D(img_in,fi2)\n",
    "imshowg(img_f2c)"
   ]
  },
  {
   "cell_type": "code",
   "execution_count": null,
   "metadata": {
    "collapsed": false,
    "deletable": true,
    "editable": true
   },
   "outputs": [],
   "source": [
    "%timeit img_f2 = cv2.sepFilter2D(img_in, -1, fi, fi)\n",
    "imshowg(img_f2)"
   ]
  },
  {
   "cell_type": "markdown",
   "metadata": {
    "deletable": true,
    "editable": true
   },
   "source": [
    "## Derivative of Gaussian"
   ]
  },
  {
   "cell_type": "code",
   "execution_count": null,
   "metadata": {
    "collapsed": false,
    "deletable": true,
    "editable": true
   },
   "outputs": [],
   "source": [
    " fi2g = conv2D(fi2,np.array([[-1,1]]))\n",
    "imshowg(fi2g)"
   ]
  },
  {
   "cell_type": "code",
   "execution_count": null,
   "metadata": {
    "collapsed": false,
    "deletable": true,
    "editable": true
   },
   "outputs": [],
   "source": [
    "\n",
    "ax.plot_surface(xx, yy, fi2g ,rstride=1, cstride=1, cmap=plt.cm.gray,linewidth=0)\n",
    "plt.show()\n"
   ]
  },
  {
   "cell_type": "code",
   "execution_count": null,
   "metadata": {
    "collapsed": false,
    "deletable": true,
    "editable": true
   },
   "outputs": [],
   "source": [
    "img_f2c = conv2D(img_in,fi2g)\n",
    "imshowg(img_f2c)"
   ]
  },
  {
   "cell_type": "markdown",
   "metadata": {
    "deletable": true,
    "editable": true
   },
   "source": [
    "# Convolution in Neural Network\n",
    "\n",
    "A breaktrhough in Neural Network application to computer vision is the one of CNN, inspired to the receptive field of the human vision system. These networks are effective in computing a custom feature that is extracted via the CNN kernel. In particular the filter kernel is learned.\n",
    "\n",
    "In general this brings to the case of  \"Learning Separable Filters\", Rigamenti et al. 2013\n",
    "http://cvlabwww.epfl.ch/~lepetit/papers/rigamonti_cvpr13.pdf\n",
    "\n",
    "We'll talk later about CNN, for the moment you can look at http://deeplearning.net/tutorial/lenet.html\n"
   ]
  },
  {
   "cell_type": "code",
   "execution_count": null,
   "metadata": {
    "collapsed": true,
    "deletable": true,
    "editable": true
   },
   "outputs": [],
   "source": []
  }
 ],
 "metadata": {
  "kernelspec": {
   "display_name": "Python 2",
   "language": "python",
   "name": "python2"
  },
  "language_info": {
   "codemirror_mode": {
    "name": "ipython",
    "version": 2
   },
   "file_extension": ".py",
   "mimetype": "text/x-python",
   "name": "python",
   "nbconvert_exporter": "python",
   "pygments_lexer": "ipython2",
   "version": "2.7.10"
  }
 },
 "nbformat": 4,
 "nbformat_minor": 2
}
