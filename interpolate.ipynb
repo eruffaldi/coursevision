{
 "cells": [
  {
   "cell_type": "code",
   "execution_count": 2,
   "metadata": {
    "collapsed": true
   },
   "outputs": [],
   "source": [
    "%matplotlib inline\n",
    "import cv2\n",
    "import numpy as np\n",
    "from matplotlib import pyplot as plt\n",
    "import matplotlib\n",
    "import matplotlib.gridspec as gridspec\n",
    "imshowg = lambda x: plt.imshow(x,cmap=plt.get_cmap('gray'))\n",
    "matplotlib.rcParams['figure.figsize'] = (20.0, 10.0)"
   ]
  },
  {
   "cell_type": "code",
   "execution_count": 12,
   "metadata": {
    "collapsed": true
   },
   "outputs": [],
   "source": [
    "def interp_rgb(a,b,n,modein=cv2.COLOR_BGR2LAB,modeout=cv2.COLOR_LAB2BGR):\n",
    "    a = np.uint8([[a]])\n",
    "    b = np.uint8([[b]])\n",
    "    if modein is None:\n",
    "        a1,b1 = a,b\n",
    "    else:\n",
    "        a1 = cv2.cvtColor(a,modein)\n",
    "        b1 = cv2.cvtColor(b,modein)\n",
    "    # 1 1 3\n",
    "    ll = np.linspace(0,1,n)\n",
    "    #y = a1*ll+b1*(ll-1)\n",
    "    r = np.zeros((n,1,3),dtype=np.uint8)\n",
    "    for i,l in enumerate(ll):\n",
    "        r[i,:,:] = a1*l+b1*(1-l)\n",
    "    return cv2.cvtColor(r,modeout) if modeout is not None else r\n"
   ]
  },
  {
   "cell_type": "code",
   "execution_count": 13,
   "metadata": {
    "collapsed": false
   },
   "outputs": [
    {
     "data": {
      "text/plain": [
       "<matplotlib.image.AxesImage at 0x111aca0d0>"
      ]
     },
     "execution_count": 13,
     "metadata": {},
     "output_type": "execute_result"
    },
    {
     "data": {
      "image/png": "[encoded data removed]",
      "text/plain": [
       "<matplotlib.figure.Figure at 0x110dbd1d0>"
      ]
     },
     "metadata": {},
     "output_type": "display_data"
    }
   ],
   "source": [
    "x = interp_rgb((255,0,0),(0,255,0),20)#,None,None)\n",
    "y = cv2.merge([c.T for c in cv2.split(x)])\n",
    "plt.imshow(y)"
   ]
  }
 ],
 "metadata": {
  "kernelspec": {
   "display_name": "Python 2",
   "language": "python",
   "name": "python2"
  },
  "language_info": {
   "codemirror_mode": {
    "name": "ipython",
    "version": 2
   },
   "file_extension": ".py",
   "mimetype": "text/x-python",
   "name": "python",
   "nbconvert_exporter": "python",
   "pygments_lexer": "ipython2",
   "version": "2.7.10"
  }
 },
 "nbformat": 4,
 "nbformat_minor": 2
}
